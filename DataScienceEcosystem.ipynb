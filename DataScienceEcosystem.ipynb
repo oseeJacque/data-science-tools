{
 "cells": [
  {
   "cell_type": "markdown",
   "id": "b8c4e405-bcb9-4c3f-a246-a8a18744f2a6",
   "metadata": {},
   "source": [
    "# Data Science Tools and Ecosystem \n",
    "In this notebook, Data Science Tools and Ecosystem are summarized."
   ]
  },
  {
   "cell_type": "markdown",
   "id": "e4c6572a-b746-4ef2-be28-beb1abf54e47",
   "metadata": {},
   "source": [
    "Some of the popular languages that Data Scientists use are: \n",
    "1. Python language\n",
    "2. R language\n",
    "3. C++ language \n",
    "4. Julia langage"
   ]
  },
  {
   "cell_type": "markdown",
   "id": "ff783e43-3b31-45e0-8c30-86bf5fcb0725",
   "metadata": {},
   "source": [
    "Some of the commonly used libraries used by Data Scientists include: \n",
    "1. Pandas \n",
    "2. Numpy \n",
    "3. Matplotlib \n",
    "4. Seaborn "
   ]
  },
  {
   "cell_type": "markdown",
   "id": "3b935688-85ad-48a9-aac1-952dd6cd4864",
   "metadata": {},
   "source": [
    "|Data Science Tools|\n",
    "------------------- \n",
    "|Hadoop            |\n",
    "|Apach spack       |\n",
    "|Jupyter notebook  | \n",
    "|R Studio          |"
   ]
  },
  {
   "cell_type": "markdown",
   "id": "6ec17630-9322-424e-ab5d-f51691951fff",
   "metadata": {},
   "source": [
    "### Below are a few examples of evaluating arithmetic expressions in Python"
   ]
  },
  {
   "cell_type": "code",
   "execution_count": 1,
   "id": "a375412e-533b-4df8-bf1f-61ab6a8bb8bf",
   "metadata": {
    "tags": []
   },
   "outputs": [
    {
     "data": {
      "text/plain": [
       "17"
      ]
     },
     "execution_count": 1,
     "metadata": {},
     "output_type": "execute_result"
    }
   ],
   "source": [
    "#This a simple arithmetic expression to mutiply then add integers \n",
    "(3*4)+5"
   ]
  },
  {
   "cell_type": "code",
   "execution_count": 2,
   "id": "3ddf36dd-15e8-4a34-a76a-828295610686",
   "metadata": {
    "tags": []
   },
   "outputs": [
    {
     "name": "stdout",
     "output_type": "stream",
     "text": [
      "200 minutes equal to 3.33 hours\n"
     ]
    }
   ],
   "source": [
    "#This will convert 200 minutes to hours by diving by 60 \n",
    "print(f\"200 minutes equal to {round(200/60,2)} hours\")"
   ]
  },
  {
   "cell_type": "markdown",
   "id": "7a2c30a7-2807-4e0c-b5a0-9bfe85289599",
   "metadata": {},
   "source": [
    "<h1 >Objective</h1>\n",
    "In this final assignment, you will:\n",
    "<ul>\n",
    "    <li>Create a Jupyter Notebook</li>\n",
    "    <li>Insert code and markdown cells</li>\n",
    "    <li>Share your notebook through GitHub</li>\n",
    "</ul>"
   ]
  },
  {
   "cell_type": "markdown",
   "id": "cedc1b12-8370-4633-bc47-9ba1d8f9eaa3",
   "metadata": {},
   "source": [
    "## Author\n",
    "SOKE Osée"
   ]
  },
  {
   "cell_type": "code",
   "execution_count": null,
   "id": "1953746e-87c3-472c-a451-c3f9d54aa1e1",
   "metadata": {},
   "outputs": [],
   "source": []
  }
 ],
 "metadata": {
  "kernelspec": {
   "display_name": "Python 3 (ipykernel)",
   "language": "python",
   "name": "python3"
  },
  "language_info": {
   "codemirror_mode": {
    "name": "ipython",
    "version": 3
   },
   "file_extension": ".py",
   "mimetype": "text/x-python",
   "name": "python",
   "nbconvert_exporter": "python",
   "pygments_lexer": "ipython3",
   "version": "3.11.0"
  }
 },
 "nbformat": 4,
 "nbformat_minor": 5
}
